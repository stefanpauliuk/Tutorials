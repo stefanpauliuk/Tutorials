{
 "cells": [
  {
   "cell_type": "markdown",
   "metadata": {},
   "source": [
    "# Tornado plot sample script\n",
    "Steps to read data from Excel template and create tornado plot.\n",
    "The data file used for this script can be found on "
   ]
  },
  {
   "cell_type": "code",
   "execution_count": 2,
   "metadata": {
    "collapsed": true
   },
   "outputs": [],
   "source": [
    "import numpy as np\n",
    "import xlrd\n",
    "import matplotlib.pyplot as plt\n",
    "import matplotlib.cm as cm\n"
   ]
  },
  {
   "cell_type": "code",
   "execution_count": null,
   "metadata": {
    "collapsed": true
   },
   "outputs": [],
   "source": [
    "# Read data from template \n",
    "DataFile  = xlrd.open_workbook('C:\\\\Users\\\\spauliuk\\\\FILES\\\\ARBEIT\\\\Software\\\\IPython\\\\Files\\\\TornadoPlotExampleData.xlsx')\n",
    "DataSheet = DataFile.sheet_by_name('Tabelle1')\n",
    "\n",
    "FigLabel     = DataSheet.cell_value(0,0)\n",
    "SliceLabels  = [] # Labels for each slice of tornado\n",
    "StageLabels  = [] # Labels for each stage/process of life cycles for which impact is plotted.\n",
    "for m in range(0,163):\n",
    "    DES_ProductNames163_original.append(Project_Classification.cell_value(m+2,5))"
   ]
  }
 ],
 "metadata": {
  "kernelspec": {
   "display_name": "Python 3",
   "language": "python",
   "name": "python3"
  },
  "language_info": {
   "codemirror_mode": {
    "name": "ipython",
    "version": 3
   },
   "file_extension": ".py",
   "mimetype": "text/x-python",
   "name": "python",
   "nbconvert_exporter": "python",
   "pygments_lexer": "ipython3",
   "version": "3.5.1"
  }
 },
 "nbformat": 4,
 "nbformat_minor": 0
}
