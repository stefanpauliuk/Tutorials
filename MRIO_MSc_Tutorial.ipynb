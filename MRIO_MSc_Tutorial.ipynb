{
 "cells": [
  {
   "cell_type": "markdown",
   "metadata": {},
   "source": [
    "# MRIO eval with Python for MSc theses\n",
    "Overview of how basic MRIO analysis works\n",
    "The numbers in this tutorial are adapted to EXIOBASE2 (163 products/industries in 48 regions). The reference year is 2007.\n",
    "## 1. Load data"
   ]
  },
  {
   "cell_type": "code",
   "execution_count": 1,
   "metadata": {
    "collapsed": true
   },
   "outputs": [],
   "source": [
    "import numpy as np\n",
    "import xlrd, xlwt\n",
    "import scipy.io\n",
    "\n"
   ]
  },
  {
   "cell_type": "code",
   "execution_count": 37,
   "metadata": {
    "collapsed": false
   },
   "outputs": [
    {
     "data": {
      "text/plain": [
       "dict_keys(['Units', 'EB2_CharacterisationUnits', 'EB2_CharacterisationCategories2', 'Extensions_Labels', 'EB2_FinalDemand_Emissions', '__version__', 'EB2_L_ITC', 'EB2_A_ITC', 'EB2_S_ITC', 'EB2_IndustryNames163', '__header__', 'EB2_CharacterisationCategories', '__globals__', 'EB2_ProductNames163', 'EB2_CharacterisationMethods', 'EB2_Y', 'EB2_CharacterisationFactors', 'EB2_RegionList', 'ScriptConfig'])"
      ]
     },
     "execution_count": 37,
     "metadata": {},
     "output_type": "execute_result"
    }
   ],
   "source": [
    "Filestring_Matlab_in      = 'C:\\\\Users\\\\spauliuk\\\\FILES\\\\Work_Archive\\\\_Data_Derived\\\\IO_models\\\\EXIOBASE2_Mon_48R_2017_3_8_ITC.mat' \n",
    "\n",
    "MRIO_L  = scipy.io.loadmat(Filestring_Matlab_in)['EB2_L_ITC'] # The Leontief inverse\n",
    "MRIO_S  = scipy.io.loadmat(Filestring_Matlab_in)['EB2_S_ITC'] # The stressor matrix\n",
    "MRIO_Y  = scipy.io.loadmat(Filestring_Matlab_in)['EB2_Y']     # The final demand matrix\n",
    "MRIO_FY = scipy.io.loadmat(Filestring_Matlab_in)['EB2_FinalDemand_Emissions']     # Emissions of final demand sectors\n",
    "MRIO_Re = scipy.io.loadmat(Filestring_Matlab_in)['EB2_RegionList']    # List of regions\n",
    "MRIO_Pr = scipy.io.loadmat(Filestring_Matlab_in)['EB2_ProductNames163']    # List of 163 products, aggregated from 200 original products\n",
    "MRIO_Ex = scipy.io.loadmat(Filestring_Matlab_in)['Extensions_Labels']    # List of 692 extensions\n",
    "MRIO_Ca = scipy.io.loadmat(Filestring_Matlab_in)['EB2_CharacterisationCategories']    # List of 124 characterisation categories\n",
    "MRIO_CU = scipy.io.loadmat(Filestring_Matlab_in)['EB2_CharacterisationUnits']    # List of 124 characterisation categories\n",
    "MRIO_Cf = scipy.io.loadmat(Filestring_Matlab_in)['EB2_CharacterisationFactors']    # Matrix of characterisation factors\n",
    "\n",
    "scipy.io.loadmat(Filestring_Matlab_in).keys() # Display all variable names in MRIO data file"
   ]
  },
  {
   "cell_type": "markdown",
   "metadata": {},
   "source": [
    "Let's first have a look at the shape of the arrays:"
   ]
  },
  {
   "cell_type": "code",
   "execution_count": 38,
   "metadata": {
    "collapsed": false
   },
   "outputs": [
    {
     "name": "stdout",
     "output_type": "stream",
     "text": [
      "(7824, 288)\n",
      "(7824, 7824)\n",
      "(692, 7824)\n",
      "(124, 692)\n"
     ]
    }
   ],
   "source": [
    "print(MRIO_Y.shape)\n",
    "print(MRIO_L.shape)\n",
    "print(MRIO_S.shape)\n",
    "print(MRIO_Cf.shape)"
   ]
  },
  {
   "cell_type": "markdown",
   "metadata": {},
   "source": [
    "## 2. The Y vector:\n",
    "Y is not a vector but a matrix, where for each of the 48 regions the following 6 final demand groups are recorded:\n",
    "+ Final consumption expenditure by households\n",
    "+ Final consumption expenditure by non-profit organisations serving households (NPISH)\n",
    "+ Final consumption expenditure by government\n",
    "+ Gross fixed capital formation\n",
    "+ Changes in inventories\n",
    "+ Changes in valuables\n",
    "\n",
    "For national footprint calculations, the latter two columns are usually ignored, as they contain goods that do not provide service during the accounting period. We therefore slice the Y vector.\n",
    "\n",
    "For example, to obtain the final demand of Germany, we specify:"
   ]
  },
  {
   "cell_type": "code",
   "execution_count": 33,
   "metadata": {
    "collapsed": false
   },
   "outputs": [
    {
     "data": {
      "text/plain": [
       "2131815.4625037638"
      ]
     },
     "execution_count": 33,
     "metadata": {},
     "output_type": "execute_result"
    }
   ],
   "source": [
    "Y_DE = MRIO_Y[:,30:34]\n",
    "Y_DE.sum() # Total final demand of Germany in MEUR."
   ]
  },
  {
   "cell_type": "markdown",
   "metadata": {},
   "source": [
    "This is because Germany is no. 6 in the country list, so there are five other countries with 6 final demand columns each coming before Germany, and occupying columns 0 to 29. The slicing parameter 30:34 selects columns 30, 31, 32, and 33. \n",
    "\n",
    "The first column of Y_DE is the column for household final demand. This column contains the final demand of all German households, for all products in from all regions. For example, final demand for product no. 90, motor vehicles, is fullfilled both with domestic production and with imports from other regions:"
   ]
  },
  {
   "cell_type": "code",
   "execution_count": 18,
   "metadata": {
    "collapsed": false
   },
   "outputs": [
    {
     "name": "stdout",
     "output_type": "stream",
     "text": [
      "Germany                41143.7130859 MEUR\n",
      "France                 2842.31938362 MEUR\n",
      "Italy                  1960.87597672 MEUR\n",
      "Austria                1853.33673309 MEUR\n",
      "Spain                  1806.32841972 MEUR\n",
      "Hungary                1723.41290664 MEUR\n",
      "Czech Republic         1721.1626944 MEUR\n",
      "United States          1545.8108521 MEUR\n",
      "United Kingdom         1426.4290719 MEUR\n",
      "Belgium                1288.56005124 MEUR\n",
      "Poland                 1250.35164902 MEUR\n",
      "Slovakia               914.730055012 MEUR\n",
      "Japan                  817.205253288 MEUR\n",
      "Netherlands            614.778937028 MEUR\n",
      "Brazil                 567.803261993 MEUR\n",
      "Mexico                 540.651379438 MEUR\n",
      "Turkey                 476.816409415 MEUR\n",
      "South Korea            476.169766556 MEUR\n",
      "Sweden                 455.40406584 MEUR\n",
      "Portugal               303.097152362 MEUR\n",
      "Finland                238.084275915 MEUR\n",
      "Slovenia               186.400073126 MEUR\n",
      "South Africa           164.248718803 MEUR\n",
      "Romania                159.360433979 MEUR\n",
      "China                  120.124504058 MEUR\n",
      "Denmark                56.126757998 MEUR\n",
      "India                  47.5872655002 MEUR\n",
      "Switzerland            42.7070709307 MEUR\n",
      "Norway                 37.3619105293 MEUR\n",
      "RoW Asia and Pacific   34.8415367075 MEUR\n",
      "RoW America            33.781964236 MEUR\n",
      "Taiwan                 31.02704178 MEUR\n",
      "Luxembourg             29.4933463856 MEUR\n",
      "RoW Middle East        26.9356852215 MEUR\n",
      "Greece                 19.5751190816 MEUR\n",
      "Ireland                15.9355500599 MEUR\n",
      "Russia                 15.241771088 MEUR\n",
      "Canada                 13.6236701715 MEUR\n",
      "RoW Europe             11.1037820966 MEUR\n",
      "Australia              10.9749485848 MEUR\n",
      "Bulgaria               9.49443321194 MEUR\n",
      "RoW Africa             8.02801492683 MEUR\n",
      "Indonesia              7.93327306502 MEUR\n",
      "Latvia                 6.13529696723 MEUR\n",
      "Lithuania              4.67071246238 MEUR\n",
      "Estonia                1.86093823885 MEUR\n",
      "Cyprus                 0.167280984291 MEUR\n",
      "Malta                  0.00632761335599 MEUR\n"
     ]
    }
   ],
   "source": [
    "Y_DE_HH_MotorVehicles = Y_DE[90::163,0]\n",
    "Y_DE_HH_MotorVehicles.shape\n",
    "ind = Y_DE_HH_MotorVehicles.argsort() # sort\n",
    "\n",
    "for m in range(0,48):\n",
    "    print(MRIO_Re[ind[47-m]], ' ', Y_DE_HH_MotorVehicles[ind[47-m]], 'MEUR')"
   ]
  },
  {
   "cell_type": "markdown",
   "metadata": {},
   "source": [
    "## 3. First MRIO analyses with EXIOBASE2:\n",
    "1) Obtain entire global emissions and select household footprint"
   ]
  },
  {
   "cell_type": "code",
   "execution_count": 34,
   "metadata": {
    "collapsed": false
   },
   "outputs": [
    {
     "data": {
      "text/plain": [
       "(692, 288)"
      ]
     },
     "execution_count": 34,
     "metadata": {},
     "output_type": "execute_result"
    }
   ],
   "source": [
    "GlobalFootprint_ByCountryAndCategory = MRIO_S.dot(MRIO_L).dot(MRIO_Y)\n",
    "GlobalFootprint_ByCountryAndCategory.shape"
   ]
  },
  {
   "cell_type": "markdown",
   "metadata": {
    "collapsed": false
   },
   "source": [
    "The result is a 692 emissions by 288 final demand categories array. The global total emissions are obtained by selecting specific rows:"
   ]
  },
  {
   "cell_type": "code",
   "execution_count": 35,
   "metadata": {
    "collapsed": false
   },
   "outputs": [
    {
     "name": "stdout",
     "output_type": "stream",
     "text": [
      "24645.0157601 Mt\n"
     ]
    }
   ],
   "source": [
    "print(str(GlobalFootprint_ByCountryAndCategory[0,:].sum()/1e9) + ' Mt') # global emissions from CO2 combusion to air, Mt"
   ]
  },
  {
   "cell_type": "markdown",
   "metadata": {},
   "source": [
    "The national footprints are obtained by selecting specific columns:"
   ]
  },
  {
   "cell_type": "code",
   "execution_count": 36,
   "metadata": {
    "collapsed": false
   },
   "outputs": [
    {
     "name": "stdout",
     "output_type": "stream",
     "text": [
      "557.172725027\n"
     ]
    }
   ],
   "source": [
    "HouseholdFootprint_De = GlobalFootprint_ByCountryAndCategory[:,30]\n",
    "print(HouseholdFootprint_De[0]/1e9) # CO2 - combustion', 'air', 'Mt'"
   ]
  },
  {
   "cell_type": "markdown",
   "metadata": {},
   "source": [
    "2) Aggregate emissions to midpoint indicators\n",
    "\n",
    "Done by multiplying the emissions array with the matrix of characterisation factors.\n",
    "We choose the global warming potential with 100 year time horizon taken from the CML method."
   ]
  },
  {
   "cell_type": "code",
   "execution_count": 39,
   "metadata": {
    "collapsed": false
   },
   "outputs": [
    {
     "data": {
      "text/plain": [
       "(124, 288)"
      ]
     },
     "execution_count": 39,
     "metadata": {},
     "output_type": "execute_result"
    }
   ],
   "source": [
    "MRIO_MidPoints = MRIO_Cf.dot(GlobalFootprint_ByCountryAndCategory)\n",
    "MRIO_MidPoints.shape"
   ]
  },
  {
   "cell_type": "code",
   "execution_count": 41,
   "metadata": {
    "collapsed": false
   },
   "outputs": [
    {
     "data": {
      "text/plain": [
       "32.034988361907921"
      ]
     },
     "execution_count": 41,
     "metadata": {},
     "output_type": "execute_result"
    }
   ],
   "source": [
    "MRIO_MidPoints[5,:].sum()/1e12 # 2007 global carbon emissions in Gt of CO2-eq"
   ]
  },
  {
   "cell_type": "code",
   "execution_count": 42,
   "metadata": {
    "collapsed": false
   },
   "outputs": [
    {
     "data": {
      "text/plain": [
       "758.50860278613288"
      ]
     },
     "execution_count": 42,
     "metadata": {},
     "output_type": "execute_result"
    }
   ],
   "source": [
    "MRIO_MidPoints[5,30]/1e9 # household carbon footprint, Germany, 2007, in Mt"
   ]
  },
  {
   "cell_type": "markdown",
   "metadata": {},
   "source": [
    "4) Product-specific footprints, example: German household consumption.\n",
    "Equation: \n",
    "\n",
    "$$c = C\\cdot S\\cdot L\\cdot\\hat{Y}$$"
   ]
  },
  {
   "cell_type": "code",
   "execution_count": 43,
   "metadata": {
    "collapsed": false
   },
   "outputs": [
    {
     "data": {
      "text/plain": [
       "(7824, 7824)"
      ]
     },
     "execution_count": 43,
     "metadata": {},
     "output_type": "execute_result"
    }
   ],
   "source": [
    "Y_DE_HH_expanded = np.diag(MRIO_Y[:,30])\n",
    "Y_DE_HH_expanded.shape"
   ]
  },
  {
   "cell_type": "code",
   "execution_count": 44,
   "metadata": {
    "collapsed": true
   },
   "outputs": [],
   "source": [
    "MRIO_MidPoints_DE_HH_Productspecific = MRIO_Cf.dot(MRIO_S).dot(MRIO_L).dot(Y_DE_HH_expanded)\n",
    "MRIO_MidPoints_DE_HH_Productspecific.shape"
   ]
  },
  {
   "cell_type": "markdown",
   "metadata": {},
   "source": [
    "The carbon footprint of motorvehicles can be summed up over all countries of origin or listed separately, by country of origin:"
   ]
  },
  {
   "cell_type": "code",
   "execution_count": 47,
   "metadata": {
    "collapsed": false
   },
   "outputs": [
    {
     "name": "stdout",
     "output_type": "stream",
     "text": [
      "50.3759406993\n"
     ]
    }
   ],
   "source": [
    "print(MRIO_MidPoints_DE_HH_Productspecific[5,90::163].sum()/1e9)\n",
    "# Carbon footprint of producing all motor vehicles bought by German households, 2007, Mt of CO2-eq"
   ]
  },
  {
   "cell_type": "code",
   "execution_count": 51,
   "metadata": {
    "collapsed": false
   },
   "outputs": [
    {
     "name": "stdout",
     "output_type": "stream",
     "text": [
      "Germany                29.0288438105 Mt of CO2-eq\n",
      "France                 1.8042043912 Mt of CO2-eq\n",
      "Czech Republic         1.76819536791 Mt of CO2-eq\n",
      "Spain                  1.57319259915 Mt of CO2-eq\n",
      "Hungary                1.52702302841 Mt of CO2-eq\n",
      "Italy                  1.50177897441 Mt of CO2-eq\n",
      "Poland                 1.42838070948 Mt of CO2-eq\n",
      "United States          1.29442944691 Mt of CO2-eq\n",
      "Austria                1.20636653271 Mt of CO2-eq\n",
      "United Kingdom         1.09763446395 Mt of CO2-eq\n",
      "Slovakia               0.956359549655 Mt of CO2-eq\n",
      "Belgium                0.923748406517 Mt of CO2-eq\n",
      "Japan                  0.797121361795 Mt of CO2-eq\n",
      "Turkey                 0.777979863362 Mt of CO2-eq\n",
      "Brazil                 0.713466100144 Mt of CO2-eq\n",
      "South Korea            0.591595199529 Mt of CO2-eq\n",
      "Mexico                 0.456195234944 Mt of CO2-eq\n",
      "Netherlands            0.429841637284 Mt of CO2-eq\n",
      "South Africa           0.392841077965 Mt of CO2-eq\n",
      "China                  0.389759888595 Mt of CO2-eq\n",
      "Sweden                 0.286284616682 Mt of CO2-eq\n",
      "Slovenia               0.218621847545 Mt of CO2-eq\n",
      "Portugal               0.217369017917 Mt of CO2-eq\n",
      "Romania                0.195892323689 Mt of CO2-eq\n",
      "Finland                0.194093650632 Mt of CO2-eq\n",
      "India                  0.136294610888 Mt of CO2-eq\n",
      "RoW Asia and Pacific   0.0485789537636 Mt of CO2-eq\n",
      "Denmark                0.0425454418772 Mt of CO2-eq\n",
      "Norway                 0.040073515377 Mt of CO2-eq\n",
      "Luxembourg             0.0397181158242 Mt of CO2-eq\n",
      "RoW Middle East        0.0377370148136 Mt of CO2-eq\n",
      "Taiwan                 0.0370877600837 Mt of CO2-eq\n",
      "Russia                 0.0314032621859 Mt of CO2-eq\n",
      "RoW America            0.0310038600184 Mt of CO2-eq\n",
      "Greece                 0.0247811129006 Mt of CO2-eq\n",
      "RoW Europe             0.0235005290785 Mt of CO2-eq\n",
      "Switzerland            0.02212650047 Mt of CO2-eq\n",
      "Bulgaria               0.0178191046898 Mt of CO2-eq\n",
      "Australia              0.0132385787811 Mt of CO2-eq\n",
      "Ireland                0.0127517447335 Mt of CO2-eq\n",
      "Canada                 0.012665201095 Mt of CO2-eq\n",
      "Latvia                 0.0119488944371 Mt of CO2-eq\n",
      "RoW Africa             0.00740863097529 Mt of CO2-eq\n",
      "Indonesia              0.00654694549122 Mt of CO2-eq\n",
      "Lithuania              0.00446884908212 Mt of CO2-eq\n",
      "Estonia                0.00270293492935 Mt of CO2-eq\n",
      "Cyprus                 0.000312660736626 Mt of CO2-eq\n",
      "Malta                  7.37623533587e-06 Mt of CO2-eq\n"
     ]
    }
   ],
   "source": [
    "MidPoints_DE_HH_MotorVehicles = MRIO_MidPoints_DE_HH_Productspecific[5,90::163]\n",
    "ind = MidPoints_DE_HH_MotorVehicles.argsort() # sort\n",
    "\n",
    "for m in range(0,48):\n",
    "    print(MRIO_Re[ind[47-m]], ' ', MidPoints_DE_HH_MotorVehicles[ind[47-m]]/1e9, 'Mt of CO2-eq')"
   ]
  },
  {
   "cell_type": "markdown",
   "metadata": {},
   "source": [
    "5) Sector-specific emissions, example: German household consumption.\n",
    "Equation: \n",
    "\n",
    "$$c = C\\cdot S\\cdot \\widehat{L\\cdot Y}$$"
   ]
  },
  {
   "cell_type": "code",
   "execution_count": 50,
   "metadata": {
    "collapsed": false
   },
   "outputs": [
    {
     "data": {
      "text/plain": [
       "(124, 7824)"
      ]
     },
     "execution_count": 50,
     "metadata": {},
     "output_type": "execute_result"
    }
   ],
   "source": [
    "MRIO_MidPoints_DE_HH_Sectorspecific = MRIO_Cf.dot(MRIO_S).dot(np.diag(MRIO_L.dot(MRIO_Y[:,30])))\n",
    "MRIO_MidPoints_DE_HH_Sectorspecific.shape"
   ]
  },
  {
   "cell_type": "code",
   "execution_count": 67,
   "metadata": {
    "collapsed": false
   },
   "outputs": [
    {
     "name": "stdout",
     "output_type": "stream",
     "text": [
      "Germany              ,  Electricity by coal            :  83.9551335789 Mt of CO2-eq\n",
      "Russia               ,  Crude petroleum and services r :  38.3075847924 Mt of CO2-eq\n",
      "China                ,  Electricity by coal            :  33.9723577741 Mt of CO2-eq\n",
      "Germany              ,  Chemicals nec                  :  18.743359677 Mt of CO2-eq\n",
      "Germany              ,  Air transport services         :  17.9608915718 Mt of CO2-eq\n",
      "China                ,  Basic iron and steel and of fe :  17.3171793249 Mt of CO2-eq\n",
      "Germany              ,  Steam and hot water supply ser :  16.310152851 Mt of CO2-eq\n",
      "Germany              ,  Collected and purified water,  :  12.6646130648 Mt of CO2-eq\n",
      "Germany              ,  Refinery products              :  12.3027854147 Mt of CO2-eq\n",
      "Germany              ,  Electricity by gas             :  12.2004074161 Mt of CO2-eq\n",
      "Germany              ,  Other business services        :  11.8845467843 Mt of CO2-eq\n",
      "RoW Europe           ,  Electricity by coal            :  11.3421816122 Mt of CO2-eq\n",
      "Germany              ,  Real estate services           :  8.8477195583 Mt of CO2-eq\n",
      "Germany              ,  Wholesale trade and commission :  8.42005221891 Mt of CO2-eq\n",
      "Germany              ,  Sea and coastal water transpor :  7.91633625019 Mt of CO2-eq\n",
      "Germany              ,  Coal etc.                      :  7.85576493042 Mt of CO2-eq\n",
      "Germany              ,  Basic iron and steel and of fe :  7.70530843692 Mt of CO2-eq\n",
      "RoW Asia and Pacific ,  Chemicals nec                  :  7.48549395636 Mt of CO2-eq\n",
      "RoW Middle East      ,  Crude petroleum and services r :  6.91587587424 Mt of CO2-eq\n",
      "Czech Republic       ,  Electricity by coal            :  6.31762258645 Mt of CO2-eq\n",
      "RoW Africa           ,  Crude petroleum and services r :  5.86631828641 Mt of CO2-eq\n",
      "RoW Asia and Pacific ,  Crude petroleum and services r :  5.60462249201 Mt of CO2-eq\n",
      "China                ,  Steam and hot water supply ser :  5.2214158605 Mt of CO2-eq\n",
      "Russia               ,  Steam and hot water supply ser :  5.14239029327 Mt of CO2-eq\n",
      "Germany              ,  Retail  trade services, except :  5.08661863105 Mt of CO2-eq\n",
      "RoW Middle East      ,  Chemicals nec                  :  4.87565313917 Mt of CO2-eq\n",
      "Germany              ,  Supporting and auxiliary trans :  4.78675337568 Mt of CO2-eq\n",
      "United States        ,  Electricity by coal            :  4.7863355274 Mt of CO2-eq\n",
      "RoW Europe           ,  Crude petroleum and services r :  4.59352181073 Mt of CO2-eq\n",
      "India                ,  Electricity by coal            :  4.57789957895 Mt of CO2-eq\n",
      "Germany              ,  Other land transportation serv :  4.42832712745 Mt of CO2-eq\n",
      "China                ,  Coal etc.                      :  4.31440317987 Mt of CO2-eq\n",
      "Russia               ,  Electricity by gas             :  4.29546980275 Mt of CO2-eq\n",
      "China                ,  Chemicals nec                  :  4.16515688615 Mt of CO2-eq\n",
      "Russia               ,  Basic iron and steel and of fe :  3.99689558183 Mt of CO2-eq\n",
      "Russia               ,  Coke etc.                      :  3.66906155009 Mt of CO2-eq\n",
      "RoW Asia and Pacific ,  Electricity by gas             :  3.59268112121 Mt of CO2-eq\n",
      "Russia               ,  Transportation services via pi :  3.58633079098 Mt of CO2-eq\n",
      "Germany              ,  Construction work              :  3.51885938652 Mt of CO2-eq\n",
      "Germany              ,  Post and telecommunication ser :  3.44626503398 Mt of CO2-eq\n",
      "Germany              ,  Cement, lime and plaster       :  3.38158327998 Mt of CO2-eq\n",
      "United States        ,  Chemicals nec                  :  3.28332093247 Mt of CO2-eq\n",
      "Germany              ,  N-fertiliser                   :  3.19823031909 Mt of CO2-eq\n",
      "Norway               ,  Natural gas and services relat :  3.1622030092 Mt of CO2-eq\n",
      "RoW Europe           ,  Electricity by gas             :  3.11603235063 Mt of CO2-eq\n",
      "RoW Middle East      ,  Electricity by gas             :  3.0879296801 Mt of CO2-eq\n",
      "Germany              ,  Recreational, cultural and spo :  3.06812181404 Mt of CO2-eq\n",
      "United Kingdom       ,  Crude petroleum and services r :  3.06101380228 Mt of CO2-eq\n",
      "RoW Asia and Pacific ,  Electricity by coal            :  3.01511904207 Mt of CO2-eq\n",
      "Germany              ,  Coke etc.                      :  2.93007730126 Mt of CO2-eq\n"
     ]
    }
   ],
   "source": [
    "MidPoints_DE_HH_BySector = MRIO_MidPoints_DE_HH_Sectorspecific[5,:]\n",
    "ind = MidPoints_DE_HH_BySector.argsort() # sort\n",
    "\n",
    "for m in range(0,50):\n",
    "    print(MRIO_Re[ind[7823-m] // 163], ', ', MRIO_Pr[ind[7823-m] % 163][0:30], ': ', MidPoints_DE_HH_BySector[ind[7823-m]]/1e9, 'Mt of CO2-eq')"
   ]
  },
  {
   "cell_type": "code",
   "execution_count": null,
   "metadata": {
    "collapsed": false
   },
   "outputs": [],
   "source": [
    "\n"
   ]
  },
  {
   "cell_type": "code",
   "execution_count": null,
   "metadata": {
    "collapsed": true
   },
   "outputs": [],
   "source": []
  }
 ],
 "metadata": {
  "kernelspec": {
   "display_name": "Python 3",
   "language": "python",
   "name": "python3"
  },
  "language_info": {
   "codemirror_mode": {
    "name": "ipython",
    "version": 3
   },
   "file_extension": ".py",
   "mimetype": "text/x-python",
   "name": "python",
   "nbconvert_exporter": "python",
   "pygments_lexer": "ipython3",
   "version": "3.5.1"
  }
 },
 "nbformat": 4,
 "nbformat_minor": 0
}
