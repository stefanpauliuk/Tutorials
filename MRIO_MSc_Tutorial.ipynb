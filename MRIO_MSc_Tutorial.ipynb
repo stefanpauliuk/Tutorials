{
 "cells": [
  {
   "cell_type": "markdown",
   "metadata": {},
   "source": [
    "# MRIO eval with Python for MSc theses\n",
    "Overview of how basic MRIO analysis works\n",
    "The numbers in this tutorial are adapted to EXIOBASE2 (163 products/industries in 48 regions). Real data are not presented here, only the principles."
   ]
  },
  {
   "cell_type": "code",
   "execution_count": 12,
   "metadata": {
    "collapsed": true
   },
   "outputs": [],
   "source": [
    "import numpy as np\n",
    "import xlrd, xlwt\n",
    "import scipy.io\n",
    "\n"
   ]
  },
  {
   "cell_type": "code",
   "execution_count": 26,
   "metadata": {
    "collapsed": false
   },
   "outputs": [],
   "source": [
    "Filestring_Matlab_in      = 'C:\\\\Users\\\\spauliuk\\\\FILES\\\\Work_Archive\\\\_Data_Derived\\\\IO_models\\\\EXIOBASE2_Mon_48R_2017_1_17_ITC.mat' \n",
    "MRIO_L  = scipy.io.loadmat(Filestring_Matlab_in)['DES_WIO_L_ITC'] # The Leontief inverse\n",
    "MRIO_S  = scipy.io.loadmat(Filestring_Matlab_in)['DES_WIO_S_ITC'] # The stressor matrix\n",
    "MRIO_Y  = scipy.io.loadmat(Filestring_Matlab_in)['DES_WIO_Y']     # The final demand matrix\n",
    "MRIO_Re = scipy.io.loadmat(Filestring_Matlab_in)['DES_WIO_RegionList']    # List of regions"
   ]
  },
  {
   "cell_type": "markdown",
   "metadata": {},
   "source": [
    "Let's first have a look at the shape of the arrays:"
   ]
  },
  {
   "cell_type": "code",
   "execution_count": 14,
   "metadata": {
    "collapsed": false
   },
   "outputs": [
    {
     "name": "stdout",
     "output_type": "stream",
     "text": [
      "(7824, 288)\n",
      "(7824, 7824)\n",
      "(692, 7824)\n"
     ]
    }
   ],
   "source": [
    "print(MRIO_Y.shape)\n",
    "print(MRIO_L.shape)\n",
    "print(MRIO_S.shape)"
   ]
  },
  {
   "cell_type": "markdown",
   "metadata": {},
   "source": [
    "## Let us have a look at the Y vector:\n",
    "Y is not a vector but a matrix, where for each of the 48 regions the following 6 final demand groups are recorded:\n",
    "+ Final consumption expenditure by households\n",
    "+ Final consumption expenditure by non-profit organisations serving households (NPISH)\n",
    "+ Final consumption expenditure by government\n",
    "+ Gross fixed capital formation\n",
    "+ Changes in inventories\n",
    "+ Changes in valuables\n",
    "\n",
    "For national footprint calculations, the latter two columns are usually ignored, as they contain goods that do not provide service during the accounting period. We therefore slice the Y vector.\n",
    "\n",
    "For example, to obtain the final demand of Germany, we specify:"
   ]
  },
  {
   "cell_type": "code",
   "execution_count": 17,
   "metadata": {
    "collapsed": false
   },
   "outputs": [],
   "source": [
    "Y_DE = MRIO_Y[:,30:34]"
   ]
  },
  {
   "cell_type": "markdown",
   "metadata": {},
   "source": [
    "This is because Germany is no. 6 in the country list, so there are five other countries with 6 final demand columns each coming before Germany, and occupying columns 0 to 29. The slicing parameter 30:34 selects columns 30, 31, 32, and 33. \n",
    "\n",
    "The first column of Y_DE is the column for household final demand. This column contains the final demand of all German households, for all products in from all regions. For example, final demand for product no. 90, motor vehicles, is fullfilled both with domestic production and with imports from other regions:"
   ]
  },
  {
   "cell_type": "code",
   "execution_count": 36,
   "metadata": {
    "collapsed": false
   },
   "outputs": [
    {
     "name": "stdout",
     "output_type": "stream",
     "text": [
      "Germany                41143.7130859 MEUR\n",
      "France                 2842.31938362 MEUR\n",
      "Italy                  1960.87597672 MEUR\n",
      "Austria                1853.33673309 MEUR\n",
      "Spain                  1806.32841972 MEUR\n",
      "Hungary                1723.41290664 MEUR\n",
      "Czech Republic         1721.1626944 MEUR\n",
      "United States          1545.8108521 MEUR\n",
      "United Kingdom         1426.4290719 MEUR\n",
      "Belgium                1288.56005124 MEUR\n",
      "Poland                 1250.35164902 MEUR\n",
      "Slovakia               914.730055012 MEUR\n",
      "Japan                  817.205253288 MEUR\n",
      "Netherlands            614.778937028 MEUR\n",
      "Brazil                 567.803261993 MEUR\n",
      "Mexico                 540.651379438 MEUR\n",
      "Turkey                 476.816409415 MEUR\n",
      "South Korea            476.169766556 MEUR\n",
      "Sweden                 455.40406584 MEUR\n",
      "Portugal               303.097152362 MEUR\n",
      "Finland                238.084275915 MEUR\n",
      "Slovenia               186.400073126 MEUR\n",
      "South Africa           164.248718803 MEUR\n",
      "Romania                159.360433979 MEUR\n",
      "China                  120.124504058 MEUR\n",
      "Denmark                56.126757998 MEUR\n",
      "India                  47.5872655002 MEUR\n",
      "Switzerland            42.7070709307 MEUR\n",
      "Norway                 37.3619105293 MEUR\n",
      "RoW Asia and Pacific   34.8415367075 MEUR\n",
      "RoW America            33.781964236 MEUR\n",
      "Taiwan                 31.02704178 MEUR\n",
      "Luxembourg             29.4933463856 MEUR\n",
      "RoW Middle East        26.9356852215 MEUR\n",
      "Greece                 19.5751190816 MEUR\n",
      "Ireland                15.9355500599 MEUR\n",
      "Russia                 15.241771088 MEUR\n",
      "Canada                 13.6236701715 MEUR\n",
      "RoW Europe             11.1037820966 MEUR\n",
      "Australia              10.9749485848 MEUR\n",
      "Bulgaria               9.49443321194 MEUR\n",
      "RoW Africa             8.02801492683 MEUR\n",
      "Indonesia              7.93327306502 MEUR\n",
      "Latvia                 6.13529696723 MEUR\n",
      "Lithuania              4.67071246238 MEUR\n",
      "Estonia                1.86093823885 MEUR\n",
      "Cyprus                 0.167280984291 MEUR\n",
      "Malta                  0.00632761335599 MEUR\n"
     ]
    }
   ],
   "source": [
    "Y_DE_HH_MotorVehicles = Y_DE[90::163,0]\n",
    "ind = Y_DE_HH_MotorVehicles.argsort() # sort\n",
    "\n",
    "for m in range(0,48):\n",
    "    print(MRIO_Re[ind[47-m]], ' ', Y_DE_HH_MotorVehicles[ind[47-m]], 'MEUR')"
   ]
  },
  {
   "cell_type": "markdown",
   "metadata": {},
   "source": [
    "## First MRIO analyses with the loaded files:\n",
    "1) Obtain the entire global emissions"
   ]
  },
  {
   "cell_type": "code",
   "execution_count": 11,
   "metadata": {
    "collapsed": false
   },
   "outputs": [
    {
     "name": "stdout",
     "output_type": "stream",
     "text": [
      "Tbd.\n"
     ]
    }
   ],
   "source": [
    "print('Tbd.')"
   ]
  },
  {
   "cell_type": "code",
   "execution_count": null,
   "metadata": {
    "collapsed": false
   },
   "outputs": [],
   "source": []
  },
  {
   "cell_type": "code",
   "execution_count": null,
   "metadata": {
    "collapsed": true
   },
   "outputs": [],
   "source": []
  }
 ],
 "metadata": {
  "kernelspec": {
   "display_name": "Python 3",
   "language": "python",
   "name": "python3"
  },
  "language_info": {
   "codemirror_mode": {
    "name": "ipython",
    "version": 3
   },
   "file_extension": ".py",
   "mimetype": "text/x-python",
   "name": "python",
   "nbconvert_exporter": "python",
   "pygments_lexer": "ipython3",
   "version": "3.5.1"
  }
 },
 "nbformat": 4,
 "nbformat_minor": 0
}
