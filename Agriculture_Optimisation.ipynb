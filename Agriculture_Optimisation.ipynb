{
 "cells": [
  {
   "cell_type": "markdown",
   "metadata": {
    "collapsed": true
   },
   "source": [
    "# Agriculture allocation and optimisation\n",
    "Built on: \n",
    "+ Kondo, Y.; Nakamura, S. Waste input–output linear programming model with its application to eco-efficiency analysis. Econ. Systems Res. 2005, 17 (4), 393-408; DOI 10.1080/09535310500283526.\n",
    "+ Gaustad, Olivetti, and Kirchain (2011): Toward Sustainable Material Usage: Evaluating the Importance of Market Motivated Agency in Modeling Material Flows\n",
    "+ Løvik, A.N., Modaresi, R., Müller, D.B., 2014. Long-term strategies for increased recycling of automotive aluminum and its alloying elements. Environ. Sci. Technol. 48, 4257–4265.\n",
    "+ Ohno et al. (2017, under review)\n",
    "+ previous script _Waste management optimisation.ipynb_\n",
    "\n",
    "## Problem statement\n",
    "The following problem arose as part of a master thesis project on identifying optimal production patterns to fill a given food basket for a given region (Baden-Württemberg, Germany).\n",
    "\n",
    "We have a given food basket w (w is a vector with entries such as 'protein', 'cereals', etc.). We have a number of farm types that produce food: group 1, the meat and dairy producers, contains m different farm types. Group 2, the crop producers, contains n different farm types. The total farm output is denoted by x. Farms themselves need agricultural input, e.g., grain to feed pigs. This input is listed in a matrix Z. Farms need resources such as fertilizer (r), land (l), and have costs or environmental impacts c. Each farm has one main output only. (By-products can be negative entries in Z). The final demand for farm products is y, which is mapped to w.\n",
    "\n",
    "According to the data that were available the land constraint is somewhat tricky:\n",
    "The total arable land is divided into different groups/classes, depending on what crops can be grown there. \n",
    "Some land can grow potatoes, wheat, rye, and sugar beets, other only potatoes and rye, for example.\n",
    "Moreover, crop rotation represents a constraint, as one cannot always grow wheat on a given field.\n",
    "Below the system definition:\n",
    "\n",
    "<img src=\"Agriculture.png\" width=\"504\" height=\"490\" alt=\"System definition\">\n",
    "\n",
    "__Figure 1:__ System definition.\n",
    "\n",
    "The challenge here is that we not only have a single land constraints but different groups/classes of producing land.\n",
    "We thus need to split the total output vector into an output vector of each land group. That means that the columns of the Z matrix also needs to be split, and both the split x and the split Z must enter the objective function.\n",
    "\n",
    "The script _IEooc_Waste management optimisation.ipynb_, which is also part of this Github repository, contains a more detailed explanation and derivation of the method applied here. A working solution is that both x and Z must enter the objective function and a number of constraints is defined and stacked into a large constraint matrix."
   ]
  },
  {
   "cell_type": "markdown",
   "metadata": {},
   "source": [
    "__Introducing the model parameters and examples__\n",
    "\n",
    "1) The basked of goods $w$ bought and consumed by the people. Building scenarios for $w$ is part of the project but not described here. \n"
   ]
  },
  {
   "cell_type": "code",
   "execution_count": 1,
   "metadata": {
    "collapsed": true
   },
   "outputs": [],
   "source": [
    "import numpy as np\n",
    "from scipy.optimize import linprog\n",
    "import pandas as pd\n",
    "\n",
    "FoodCats = ['Proteins','Meat','Cereals'] #Unit: kg\n",
    "No_FoodCats = len(FoodCats)\n",
    "w = np.array(([10,20,15])) # Basket of final goods"
   ]
  },
  {
   "cell_type": "markdown",
   "metadata": {},
   "source": [
    "2) The list of meat products, the list of crops, the final demand for farm products $y$ and the mapping matrices from meat and crops to the food basket, $W_m$ and $W_c$.\n"
   ]
  },
  {
   "cell_type": "code",
   "execution_count": 2,
   "metadata": {
    "collapsed": false
   },
   "outputs": [
    {
     "name": "stdout",
     "output_type": "stream",
     "text": [
      "[[ 0.26  0.26  0.26  0.26]\n",
      " [ 1.    1.    1.    1.  ]\n",
      " [ 0.    0.    0.    0.  ]]\n",
      "[[ 0.   0.1  0.1  0.1]\n",
      " [ 0.   0.   0.   0. ]\n",
      " [ 0.   1.   0.   1. ]]\n",
      "(3, 8)\n",
      "8\n",
      "24\n"
     ]
    }
   ],
   "source": [
    "Meats = ['Beef','Poultry','Pig','Lamb'] # in kg\n",
    "No_Meats = len(Meats)\n",
    "Crops = ['Grass','Wheat','Potatoes','Oats'] # in kg\n",
    "No_Crops = len(Crops)\n",
    "Landgroups = ['Pasture/Grassland','Field_1','Field_2','Field_3','Field_4']\n",
    "No_Landgroups = len(Landgroups)\n",
    "\n",
    "Wm = np.array(([[0.26,0.26,0.26,0.26],[1,1,1,1],[0,0,0,0]])) # number of FoodCats x number of meat products\n",
    "Wc = np.array(([[0,0.1,0.1,0.1],[0,0,0,0],[0,1,0,1]])) # number of FoodCats x number of crops\n",
    "print(Wm)\n",
    "print(Wc)\n",
    "W = np.concatenate((Wm,Wc), axis =1) # stack Wm and Wc to map expanded output vector to food basket.\n",
    "print(W.shape)\n",
    "No_x = No_Meats + No_Crops # Number of markets\n",
    "print(No_x)\n",
    "No_X = No_Meats + No_Crops * No_Landgroups # Length of expanded X vector\n",
    "print(No_X)"
   ]
  },
  {
   "cell_type": "markdown",
   "metadata": {},
   "source": [
    "3) The specific land requirement of crop production $l$, the land groups, the total available land by group $L$, and the maximal production share table for each land type $LS$."
   ]
  },
  {
   "cell_type": "code",
   "execution_count": 3,
   "metadata": {
    "collapsed": false
   },
   "outputs": [
    {
     "name": "stdout",
     "output_type": "stream",
     "text": [
      "[[ 1.    0.    0.    0.  ]\n",
      " [ 0.    0.5   0.25  0.25]\n",
      " [ 0.    0.    0.75  0.  ]\n",
      " [ 0.    0.4   0.    0.4 ]\n",
      " [ 0.    0.    0.4   0.4 ]]\n",
      "[[ 100.    0.    0.    0.]\n",
      " [   0.   10.    5.    5.]\n",
      " [   0.    0.  150.    0.]\n",
      " [   0.   32.    0.   32.]\n",
      " [   0.    0.   48.   48.]]\n"
     ]
    }
   ],
   "source": [
    "l  = np.array(([0.1,0.15,0.18,0.25])) # land for field crops in area per kg\n",
    "\n",
    "L  = np.array(([100,20,200,80,120])) # Total land (area units) for each land group\n",
    "\n",
    "LS = np.array(([1,0,0,0],[0,0.5,0.25,0.25],[0,0,0.75,0],[0,0.4,0,0.4],[0,0,0.4,0.4])) # Land group by crop: maximal production share according to crop rotation\n",
    "print(LS)\n",
    "print((np.diag(L).dot(LS)))"
   ]
  },
  {
   "cell_type": "markdown",
   "metadata": {},
   "source": [
    "4) The cost or GHG intensity vector c:"
   ]
  },
  {
   "cell_type": "code",
   "execution_count": 4,
   "metadata": {
    "collapsed": true
   },
   "outputs": [],
   "source": [
    "cm = np.array(([5,2,3,1.5]))       # For meat products\n",
    "cc = np.array(([0.5,0.6,0.3,0.4])) # For crops"
   ]
  },
  {
   "cell_type": "markdown",
   "metadata": {},
   "source": [
    "5) The intermediate demand $A$ of crops for meat production."
   ]
  },
  {
   "cell_type": "code",
   "execution_count": 5,
   "metadata": {
    "collapsed": false
   },
   "outputs": [
    {
     "name": "stdout",
     "output_type": "stream",
     "text": [
      "[[ 12.    1.5   2.   15. ]\n",
      " [  5.    2.    3.    1. ]\n",
      " [  1.    2.    2.    0. ]\n",
      " [  4.    1.5   3.    4. ]]\n"
     ]
    }
   ],
   "source": [
    "A = np.array(([12,5,1,4],[1.5,2,2,1.5],[2,3,2,3],[15,1,0,4])).transpose() # in kg per kg\n",
    "print(A)\n",
    "# dimensions of A: crop types (rows) by meat types (columns)"
   ]
  },
  {
   "cell_type": "markdown",
   "metadata": {},
   "source": [
    "## Approaching a formulation as linear problem\n",
    "The Python routine scipy.optimize.linprog offers a solver for a linear programme in the standard form\n",
    "\n",
    "$$\n",
    "\\begin{eqnarray}\n",
    "min \\> C = c^t\\cdot x  \\\\\n",
    "\\mbox{s.t.} \\\\\n",
    "B\\cdot x \\leq b \\\\\n",
    "B_{eq}\\cdot x = b_{eq}  \\\\\n",
    "lb \\leq x \\leq ub\n",
    "\\end{eqnarray}\n",
    "$$\n",
    "\n",
    "All subsequent linear programmes will be converted to that standard form, using suitable linear operators to build the constraint matrices.\n",
    "\n",
    "The following objective function and constraints are used:"
   ]
  },
  {
   "cell_type": "markdown",
   "metadata": {
    "collapsed": false
   },
   "source": [
    "__1) Objective function and costs__\n",
    "\n",
    "The total output vector $x$ is a stack of the meat output plus No_Landgroups * No_Crops different crop outputs.\n",
    "\n",
    "len(x) = No_Meats + No_Landgroups * No_Crops\n",
    "\n",
    "We have len(x) farm types and len(x) markets. The $Z$ matrix contains flows from meat and crop markets to farms in the different land groups, has the dimension (No_Meats + No_Crops) x (No_Meats + No_Landgroups * No_Crops).\n",
    "\n",
    "The linear program will find both x and Z, and to do that we need to stack x and the columns of Z into a big objective vector X. \n",
    "\n",
    "We can then define a cost vector C of the same length as X.\n",
    "\n",
    "__2) Final demand constraint__\n",
    "\n",
    "The market balance reads\n",
    "$$ y = x - Z\\cdot e$$\n",
    "where $e$ is a summation vector of only ones. x ist determined from X by summing up over the different land groups.\n",
    "\n",
    "The food basket is determined from y as:\n",
    "$$ w = W \\cdot y$$\n",
    "From which follows that\n",
    "$$ w = W \\cdot y = W \\cdot x - W \\cdot Z\\cdot e$$\n",
    "From which the first inequality contraint follows:\n",
    "$$ W \\cdot x - W \\cdot Z\\cdot e \\geq w$$\n",
    "or\n",
    "$$ W \\cdot Z\\cdot e - W \\cdot x   \\leq -w$$\n",
    "Now a constraint matrix has build for this equation that fits the format required by Python ($B\\cdot X \\leq b$), where X and Z are part of the same objective vector X. This matrix is built below.\n",
    "\n",
    "__3) Intermediate demand constraint__\n",
    "\n",
    "The intermediate demand $Z$ is proportional to the output vector $X$, and the proportionality factor is the so-called matrix of technical cofficients $A$, a term that is taken from Leontief-input-output analysis. The following relationship between $A$ and $Z$ holds:\n",
    "$$ A \\cdot \\hat{X} = Z$$\n",
    "or\n",
    "$$ A \\cdot \\hat{X} \\leq Z$$\n",
    "$$ A \\cdot \\hat{X} - Z \\leq 0$$\n",
    "A matrix operator for this constraint is built below.\n",
    "\n",
    "__4) Crop rotation constraint__\n",
    "\n",
    "The matrix $\\hat{L}\\cdot LS$ shows the total land that is available for each crop in each land group. \n",
    "A matrix operator for this constraint is built below.\n",
    "\n",
    "__5) Total land constraint__\n",
    "\n",
    "The output vector X, multiplied with the specific land requirements l, must not be larger than the available land L.\n",
    "A matrix operator for this constraint is built below.\n",
    "\n",
    "__6) Sign constraints__\n",
    "\n",
    "We need to stipulate that $y\\geq 0$ and $x\\geq 0$.\n",
    "For y a matrix operator constraint will be built below, for x, the constraint can be specified when calling the solver."
   ]
  },
  {
   "cell_type": "markdown",
   "metadata": {
    "collapsed": true
   },
   "source": [
    "\n",
    "## Helper functions for transforming matrix constraints into standard form\n"
   ]
  },
  {
   "cell_type": "code",
   "execution_count": 6,
   "metadata": {
    "collapsed": false
   },
   "outputs": [],
   "source": [
    "def MI_Tupel(value, Is): \n",
    "    \"\"\"\n",
    "    Define function for obtaining multiindex tuple from index value\n",
    "    value: flattened index position, Is: Number of values for each index dimension\n",
    "    Example: MI_Tupel(10, [3,4,2,6]) returns (0,0,1,4)\n",
    "    \"\"\"\n",
    "    IsValuesRev = []\n",
    "    CurrentValue = value\n",
    "    for m in range(0,len(Is)):\n",
    "        IsValuesRev.append(CurrentValue % Is[len(Is)-m-1])\n",
    "        CurrentValue = CurrentValue // Is[len(Is)-m-1]\n",
    "    return IsValuesRev[::-1]\n",
    "\n",
    "\n",
    "def Summation_Matrix(To,Tn,Is):\n",
    "    \"\"\"\n",
    "    Define function for summation matrix operator for multi-indizes\n",
    "    This function returns a matrix, which, when applied to a flattened multidimensional array, gives the same result as the operation\n",
    "    Y(dr,ds,dt, ...) = Sum(d1,d2,d3, ...) X(d1,d2,d3, ... , dr, ds, dt, ...)\n",
    "    The order of the different dimensions can be arbitrary but needs to specified.\n",
    "    Function takes three lists: index hierarchy old, index hierarchy new, index size\n",
    "    example: To = ['w', 's', 'm', 'e'], Tn = ['w', 'm', 'e'], Is = [3,4,2,6]\n",
    "    \"\"\"    \n",
    "    # Check input data consistency:\n",
    "    if len(To) != len(Is):\n",
    "        return 'Error: Length of old index hierarchy list must be the same as length of index size list.'\n",
    "    \n",
    "    # Determine hierarchy levels of indices in multiindex for new and old array\n",
    "    OldPos = np.arange(0,len(To)).tolist()\n",
    "    NewPos = []\n",
    "    [NewPos.append(To.index(i)) for i in Tn]\n",
    "    NewIs = [Is[To.index(i)] for i in Tn]\n",
    "    # return NewPos\n",
    "    Rows = int(np.prod([Is[i] for i in NewPos])) # number of rows of aggregation matrix\n",
    "    Cols = int(np.prod([Is[i] for i in OldPos])) # number of columns of aggregation matrix\n",
    "    # return (Rows, Cols)\n",
    "    am = np.zeros((Rows,Cols)) # define empty aggregation matrix\n",
    "    if Tn == []: # if all dimensions are summed up:\n",
    "        for m in range(0,Rows):\n",
    "            for n in range(0,Cols): # Fill aggregation matrix\n",
    "                am[m,n] = 1\n",
    "    else: # if summation matrix has more than one row\n",
    "        for m in range(0,Rows):\n",
    "            for n in range(0,Cols): # Fill aggregation matrix\n",
    "                RowTupel = MI_Tupel(m,NewIs)\n",
    "                ColTupel = MI_Tupel(n,Is)\n",
    "                ColTupel_inNewPos = [ColTupel[i] for i in NewPos]\n",
    "                if RowTupel == ColTupel_inNewPos:\n",
    "                    am[m,n] = 1\n",
    "    return am\n",
    "\n",
    "\n",
    "def Weighted_Partial_Summation_Matrix(WeightArray,IndxNew,IndxArray,IndxOld,SizeArray,SizeOld):\n",
    "    \"\"\"\n",
    "    Define function for weighted partial summation matrix operator for multi-indizes\n",
    "    This function returns a matrix, which, when applied to a flattened multidimensional array, gives the same result as the operation\n",
    "    Y(dr,ds,dt, ..., da, db, dc, ...) = Sum(d1,d2,d3, ...) W(d1,d2,d3, ... , da, db, dc) \\cdot X(d1,d2,d3, ... , dr, ds, dt, ...)\n",
    "    The order of the different dimensions can be arbitrary but needs to specified.\n",
    "    Function takes the following arguments: multidim. weighting factor array with five lists: IndxOld: hierarchy old of x vector, IndxArray: index hierarchy of weighting array, IndxNew: index hierarchy new, SizeOld: index sizes for x, and SizeArray: index sizes for weighting array\n",
    "    example 1: WeightArray = n-dim array with indices IndxArray = ['w', 's', 'm', 'e', 'a'] and SizeArray = [3,4,2,6,3], objective vector x with multiindex IndxOld = ['w', 's', 'm', 'e'], and SizeOld = [3,4,2,6], new vector with multiindex  IndxNew = ['s', 'a']  \n",
    "    example 2: a matrix term W*X*e, where W contains weights, X is the to-be-flattened matrix, and e is the row sum operator (vector of ones)\n",
    "    Result = Weighted_Partial_Summation_Matrix(W,['i'],['i','k'],['k','j'],[],[])\n",
    "    \"\"\"\n",
    "    \n",
    "    # Check input data consistency:\n",
    "    if len(IndxArray) != len(SizeArray):\n",
    "        return 'Error: Length of old index hierarchy list must be the same as length of index size list for x vector.'\n",
    "    if len(IndxOld) != len(SizeOld):\n",
    "        return 'Error: Length of old index hierarchy list must be the same as length of index size list for x weighting array.'\n",
    "    CommonDims = [i for i, j in zip(IndxArray, IndxOld) if i == j]\n",
    "    # return CommonDims\n",
    "    for m in CommonDims:\n",
    "        if SizeArray[IndxArray.index(m)] != SizeOld[IndxOld.index(m)]:\n",
    "            return 'Error: Dimemsion mismatch. At least one index has different dimensions in array and vector.'\n",
    "    if tuple(SizeArray) != WeightArray.shape:\n",
    "        return 'Error: Dimensions of SizeArray do not match the dimensions of the index provided.'\n",
    "    \n",
    "    # Determine properties of array family\n",
    "    SizeNew = [] # Determine list of dimension sizes of new array\n",
    "    for m in range(0,len(IndxNew)):\n",
    "        if IndxNew[m] in IndxArray: # Check if this particular index is present in the array, and, if so, take its size\n",
    "            SizeNew.append(SizeArray[IndxArray.index(IndxNew[m])])\n",
    "        else:\n",
    "            SizeNew.append(SizeOld[IndxOld.index(IndxNew[m])]) # Take size from objective vector x\n",
    "    # return SizeNew\n",
    "    \n",
    "    CommonIndizesResultVector   = list(set(IndxNew) & set(IndxOld)) # List of index letters that the result vector and the original vector have in common. These indized are not summed over.\n",
    "    # return CommonIndizesResultVector\n",
    "    CommonIndexPositionResult   = [IndxNew.index(i) for i in CommonIndizesResultVector] # Position of common indices in result vector\n",
    "    # return CommonIndexPositionResult\n",
    "    CommonIndexPositionOriginal = [IndxOld.index(i) for i in CommonIndizesResultVector] # Position of common indices in original vector\n",
    "    # return CommonIndexPositionOriginal\n",
    "    \n",
    "    Rows = int(np.prod(SizeNew)) # number of rows of aggregation matrix\n",
    "    Cols = int(np.prod(SizeOld)) # number of columns of aggregation matrix\n",
    "    # return (Rows, Cols)\n",
    "    am = np.zeros((Rows,Cols)) # define empty aggregation matrix am  \n",
    "    for m in range(0,Rows):\n",
    "        for n in range(0,Cols): # Fill aggregation matrix\n",
    "            RowTupel = MI_Tupel(m,SizeNew)\n",
    "            ColTupel = MI_Tupel(n,SizeOld)\n",
    "            # First, we check whether this Row/Column intersection has an entry at all. It does if the indices that the result vector and the original vector have in common have the same values.\n",
    "            RowCommonIndices = [RowTupel[i] for i in CommonIndexPositionResult]\n",
    "            ColCommonIndices = [ColTupel[i] for i in CommonIndexPositionOriginal]\n",
    "            # print(RowCommonIndices, ColCommonIndices)\n",
    "            if RowCommonIndices == ColCommonIndices: # The non-summation indices match, that means we will insert the value of the weighting array here.\n",
    "                # Now, we need to get the indices for the Weighting Array from those tuples.\n",
    "                ThisIndex = [] # list of indices for the dimensions of the weighting array for this entry\n",
    "                for o in range(0,len(IndxArray)):\n",
    "                    if IndxArray[o] in IndxNew:\n",
    "                        ThisIndex.append(RowTupel[IndxNew.index(IndxArray[o])])\n",
    "                    else:\n",
    "                        ThisIndex.append(ColTupel[IndxOld.index(IndxArray[o])])\n",
    "                # print(ThisIndex)\n",
    "                am[m,n] = WeightArray[tuple(ThisIndex)]\n",
    "    return am\n",
    "\n",
    "\n",
    "\n",
    "# End"
   ]
  },
  {
   "cell_type": "code",
   "execution_count": 7,
   "metadata": {
    "collapsed": false
   },
   "outputs": [],
   "source": [
    "#TESTS:\n",
    "\n",
    "#A = Summation_Matrix(To = ['w', 's', 'm', 'e'], Tn = ['w', 'm', 'e'], Is = [3,4,3,2])\n",
    "#A = Summation_Matrix(To = ['w', 'm', 'e'], Tn = ['w', 'e'], Is = [3,2,1])\n",
    "#A = Summation_Matrix(To = ['w', 's', 'm', 'e', 'b'], Tn = ['w', 'm', 'e'], Is = [3,4,3,2,6])\n",
    "#A = Summation_Matrix(To = ['w', 's', 'm', 'e', 'b'], Tn = [], Is = [3,4,3,2,6])\n",
    "# A = Summation_Matrix(To = ['w', 's', 'm', 'e'], Tn = ['w', 's', 'm', 'e'], Is = [3,4,3,2]) # yields unit matrix\n",
    "#print(A.shape)\n",
    "#print(A)\n",
    "\n",
    "#B = Weighted_Partial_Summation_Matrix(WeightArray = np.random.random([3,4,2,6,3]), IndxArray = ['w', 's', 'm', 'e', 'a'],SizeArray = [3,4,2,6,3], IndxOld = ['w', 's', 'm', 'e'], SizeOld = [3,4,2,6], IndxNew = ['s', 'a', 'm'])\n",
    "#B = Weighted_Partial_Summation_Matrix(WeightArray = np.random.random([2]), IndxArray = ['e'], SizeArray = [2], IndxOld = [ 'm', 'e'], SizeOld = [3,2], IndxNew = ['e'])\n",
    "#B = Weighted_Partial_Summation_Matrix(WeightArray = np.random.random([2,4]), IndxArray = ['e','a'], SizeArray = [2,4], IndxOld = [ 'm', 'e'], SizeOld = [3,2], IndxNew = ['a'])\n",
    "# print(B)\n",
    "#print(B.shape)"
   ]
  },
  {
   "cell_type": "markdown",
   "metadata": {
    "collapsed": false
   },
   "source": [
    "\n",
    "## A field to crop/meat allocation procedure\n",
    "We have a number of field groups with certain crop rotation patterns. We need meat products and crops to fill a given food basket. Parametes and constraints as defined above."
   ]
  },
  {
   "cell_type": "code",
   "execution_count": 8,
   "metadata": {
    "collapsed": false
   },
   "outputs": [
    {
     "name": "stdout",
     "output_type": "stream",
     "text": [
      "Length of output vector: 24\n",
      "Length of objective vector: 216\n",
      "Shape of C: (216,)\n",
      "Shape of final demand constraint: (3, 216)\n",
      "Shape of final demand sign constraint: (8, 216)\n",
      "Optimization terminated successfully.\n",
      "         Current function value: 118.900000  \n",
      "         Iterations: 212\n",
      "     fun: 118.89999999999998\n",
      " message: 'Optimization terminated successfully.'\n",
      "     nit: 212\n",
      "   slack: array([  97.  ,    0.  ,    0.  ,    0.  ,    0.  ,    0.  ,    0.  ,\n",
      "          0.  ,    0.  ,    0.  ,  141.86,    0.  ,    0.  ,   32.  ,\n",
      "          0.  ,   25.75,    0.  ,    0.  ,   48.  ,   48.  ,   97.  ,\n",
      "          4.  ,  191.86,   73.75,  120.  ,    0.  ,   20.  ,    0.  ,\n",
      "          0.  ,    0.  ,    0.  ,    0.  ,    0.  ,    0.  ,   33.  ,   15.  ])\n",
      "  status: 0\n",
      " success: True\n",
      "       x: array([  0.        ,  20.        ,   0.        ,   0.        ,\n",
      "        30.        ,   0.        ,   0.        ,   0.        ,\n",
      "         0.        ,  40.        ,  27.77777778,  20.        ,\n",
      "         0.        ,   0.        ,  45.22222222,   0.        ,\n",
      "         0.        ,   0.        ,   0.        ,  25.        ,\n",
      "         0.        ,   0.        ,   0.        ,   0.        ,\n",
      "         0.        ,   0.        ,   0.        ,   0.        ,\n",
      "         0.        ,   0.        ,   0.        ,   0.        ,\n",
      "         0.        ,   0.        ,   0.        ,   0.        ,\n",
      "         0.        ,   0.        ,   0.        ,   0.        ,\n",
      "         0.        ,   0.        ,   0.        ,   0.        ,\n",
      "         0.        ,   0.        ,   0.        ,   0.        ,\n",
      "         0.        ,   0.        ,   0.        ,   0.        ,\n",
      "         0.        ,   0.        ,   0.        ,   0.        ,\n",
      "         0.        ,   0.        ,   0.        ,   0.        ,\n",
      "         0.        ,   0.        ,   0.        ,   0.        ,\n",
      "         0.        ,   0.        ,   0.        ,   0.        ,\n",
      "         0.        ,   0.        ,   0.        ,   0.        ,\n",
      "         0.        ,   0.        ,   0.        ,   0.        ,\n",
      "         0.        ,   0.        ,   0.        ,   0.        ,\n",
      "         0.        ,   0.        ,   0.        ,   0.        ,\n",
      "         0.        ,   0.        ,   0.        ,   0.        ,\n",
      "         0.        ,   0.        ,   0.        ,   0.        ,\n",
      "         0.        ,   0.        ,   0.        ,   0.        ,\n",
      "         0.        ,   0.        ,   0.        ,   0.        ,\n",
      "         0.        ,   0.        ,   0.        ,   0.        ,\n",
      "         0.        ,   0.        ,   0.        ,   0.        ,\n",
      "         0.        ,   0.        ,   0.        ,   0.        ,\n",
      "         0.        ,   0.        ,   0.        ,   0.        ,\n",
      "         0.        ,   0.        ,   0.        ,   0.        ,\n",
      "         0.        ,  30.        ,   0.        ,   0.        ,\n",
      "         0.        ,   0.        ,   0.        ,   0.        ,\n",
      "         0.        ,   0.        ,   0.        ,   0.        ,\n",
      "         0.        ,   0.        ,   0.        ,   0.        ,\n",
      "         0.        ,   0.        ,   0.        ,   0.        ,\n",
      "         0.        ,   0.        ,   0.        ,   0.        ,\n",
      "         0.        ,  40.        ,   0.        ,   0.        ,\n",
      "         0.        ,   0.        ,   0.        ,   0.        ,\n",
      "         0.        ,   0.        ,   0.        ,   0.        ,\n",
      "         0.        ,   0.        ,   0.        ,   0.        ,\n",
      "         0.        ,   0.        ,   0.        ,   0.        ,\n",
      "         0.        ,   0.        ,   0.        ,   0.        ,\n",
      "         0.        ,  40.        ,   0.        ,   0.        ,\n",
      "         0.        ,   0.        ,   0.        ,   0.        ,\n",
      "         0.        ,   0.        ,   0.        ,   0.        ,\n",
      "         0.        ,   0.        ,   0.        ,   0.        ,\n",
      "         0.        ,   0.        ,   0.        ,   0.        ,\n",
      "         0.        ,   0.        ,   0.        ,   0.        ,\n",
      "         0.        ,  30.        ,   0.        ,   0.        ,\n",
      "         0.        ,   0.        ,   0.        ,   0.        ,\n",
      "         0.        ,   0.        ,   0.        ,   0.        ,\n",
      "         0.        ,   0.        ,   0.        ,   0.        ,\n",
      "         0.        ,   0.        ,   0.        ,   0.        ,\n",
      "         0.        ,   0.        ,   0.        ,   0.        ])\n"
     ]
    }
   ],
   "source": [
    "# A field to crop/meat allocation procedure\n",
    "# Define indices and item lists\n",
    "# --> Above\n",
    "\n",
    "# Define input parameters\n",
    "# --> Above\n",
    "\n",
    "# OPTIMISATION MODEL\n",
    "\n",
    "# 1) Objective function and costs\n",
    "# X is a stack of the output vector x (which again is a stack of output by different field groups) and Z\n",
    "len_x =  No_Meats + No_Crops * No_Landgroups # output vector x\n",
    "print('Length of output vector: ' + str(len_x))\n",
    "len_X =  len_x + len_x * (No_Meats + No_Crops) # Big objective vector X (x stacked on top of columns of Z)\n",
    "print('Length of objective vector: ' + str(len_X))\n",
    "\n",
    "# We define the cost or GHG vector C:\n",
    "C    = np.zeros((len_X))\n",
    "C[0:No_Meats] = cm # add costs for meat production\n",
    "C[No_Meats:No_Meats+No_Crops*No_Landgroups] = np.tile(cc.reshape(No_Crops,1),(No_Landgroups,1)).flatten()# add costs for crop production by field group\n",
    "#print(C)\n",
    "print('Shape of C: ' + str(C.shape))\n",
    "\n",
    "# Build inequality constraints\n",
    "\n",
    "# 2) Final demand constraint\n",
    "IneqCV1  = -w\n",
    "IneqCM1a = -np.concatenate((Wm,np.tile(Wc,(1,No_Landgroups))), axis =1) # stack Wm and Wc to map expanded output vector to food basket.\n",
    "#print(IneqCM1a.shape)\n",
    "IneqCM1b = Weighted_Partial_Summation_Matrix(W,['i'],['i','k'],['k','j'],[No_FoodCats,No_x],[No_x,No_X])\n",
    "#print(IneqCM1b.shape)\n",
    "IneqCM1  = np.concatenate((IneqCM1a,IneqCM1b), axis =1)\n",
    "print('Shape of final demand constraint: ' + str(IneqCM1.shape))\n",
    "\n",
    "# 3) Intermediate demand constraint (as equality constraint)\n",
    "EqCV1  = np.zeros((No_x *No_X,1))\n",
    "EqCM1a = np.zeros((No_x *No_X,No_X))\n",
    "for m in range(0,No_Meats):\n",
    "    for n in range(0,No_Crops):\n",
    "        EqCM1a[No_Meats*No_X +n*No_X +m,m] = A[n,m] \n",
    "EqCM1b = -np.eye(No_x *No_X)\n",
    "EqCM1 = np.concatenate((EqCM1a,EqCM1b), axis =1)\n",
    "\n",
    "# 4) Crop rotation constraint\n",
    "IneqCV2 = (np.diag(L).dot(LS)).flatten()\n",
    "IneqCM2 = np.zeros((No_Crops * No_Landgroups,len_X))\n",
    "for m in range(0,No_Landgroups):\n",
    "    IneqCM2[m*No_Crops:(m+1)*No_Crops,No_Meats +m*No_Crops:No_Meats + (m+1)*No_Crops] = np.diag(l)\n",
    "\n",
    "# 5) Total land constraint\n",
    "IneqCV3 = L\n",
    "IneqCM3 = np.zeros((No_Landgroups,len_X))\n",
    "for m in range(0,No_Landgroups):\n",
    "    IneqCM3[m,No_Meats + No_Crops*m : No_Meats + No_Crops*(m+1)] = l # enter specific land requirements into constraint matrix\n",
    "    \n",
    "# 6) Final demand sign\n",
    "IneqCV4  = np.zeros((No_x))\n",
    "IneqCM4a = np.zeros((No_x,No_X))\n",
    "IneqCM4a[0:No_Meats,0:No_Meats] = -np.eye(No_Meats)\n",
    "for m in range(0,No_Landgroups):\n",
    "    IneqCM4a[No_Meats::,No_Meats+m*No_Crops:No_Meats+(m+1)*No_Crops] = -np.eye(No_Crops)\n",
    "#print(IneqCM4a.shape)\n",
    "IneqCM4b = Summation_Matrix(To = ['a', 'b'], Tn = ['a'], Is = [No_x,No_X])\n",
    "#print(IneqCM4b.shape)\n",
    "IneqCM4  = np.concatenate((IneqCM4a,IneqCM4b), axis =1)\n",
    "print('Shape of final demand sign constraint: ' + str(IneqCM4.shape))    \n",
    "\n",
    "# Build inequality constraint\n",
    "IneqCM = np.concatenate((IneqCM1,IneqCM2,IneqCM3,IneqCM4), axis =0) #,IneqCM4\n",
    "IneqCV = np.concatenate((IneqCV1,IneqCV2,IneqCV3,IneqCV4), axis =0) #,IneqCV4\n",
    "\n",
    "# Build equality constraint\n",
    "EqCM = EqCM1\n",
    "EqCV = EqCV1\n",
    "\n",
    "# Call the solver\n",
    "res = linprog(C, A_ub=IneqCM, b_ub=IneqCV, A_eq=EqCM, b_eq=EqCV, bounds=(0, None), options={\"disp\": True})\n",
    "# Coeff. in objective function\n",
    "print(res)\n",
    "\n",
    "# Evaluate and check model results\n",
    "x_meat = res['x'][0:No_Meats]\n",
    "x_crop = res['x'][No_Meats:No_Meats + No_Crops*No_Landgroups].reshape(No_Landgroups,No_Crops)\n",
    "Z_res  = res['x'][No_Meats + No_Crops*No_Landgroups::].reshape(No_x,No_X) # Result in matrix form\n",
    "\n",
    "#\n",
    "#\n",
    "#"
   ]
  },
  {
   "cell_type": "code",
   "execution_count": 9,
   "metadata": {
    "collapsed": false
   },
   "outputs": [
    {
     "data": {
      "text/html": [
       "<div>\n",
       "<table border=\"1\" class=\"dataframe\">\n",
       "  <thead>\n",
       "    <tr style=\"text-align: right;\">\n",
       "      <th></th>\n",
       "      <th>Meat output in kg</th>\n",
       "    </tr>\n",
       "  </thead>\n",
       "  <tbody>\n",
       "    <tr>\n",
       "      <th>Beef</th>\n",
       "      <td>0</td>\n",
       "    </tr>\n",
       "    <tr>\n",
       "      <th>Poultry</th>\n",
       "      <td>20</td>\n",
       "    </tr>\n",
       "    <tr>\n",
       "      <th>Pig</th>\n",
       "      <td>0</td>\n",
       "    </tr>\n",
       "    <tr>\n",
       "      <th>Lamb</th>\n",
       "      <td>0</td>\n",
       "    </tr>\n",
       "  </tbody>\n",
       "</table>\n",
       "</div>"
      ],
      "text/plain": [
       "         Meat output in kg\n",
       "Beef                     0\n",
       "Poultry                 20\n",
       "Pig                      0\n",
       "Lamb                     0"
      ]
     },
     "execution_count": 9,
     "metadata": {},
     "output_type": "execute_result"
    }
   ],
   "source": [
    "pd.DataFrame(data = x_meat, index = Meats, columns = ['Meat output in kg'])\n",
    "\n"
   ]
  },
  {
   "cell_type": "code",
   "execution_count": 10,
   "metadata": {
    "collapsed": false
   },
   "outputs": [
    {
     "data": {
      "text/html": [
       "<div>\n",
       "<table border=\"1\" class=\"dataframe\">\n",
       "  <thead>\n",
       "    <tr style=\"text-align: right;\">\n",
       "      <th></th>\n",
       "      <th>Grass</th>\n",
       "      <th>Wheat</th>\n",
       "      <th>Potatoes</th>\n",
       "      <th>Oats</th>\n",
       "    </tr>\n",
       "  </thead>\n",
       "  <tbody>\n",
       "    <tr>\n",
       "      <th>Pasture/Grassland</th>\n",
       "      <td>30</td>\n",
       "      <td>0</td>\n",
       "      <td>0.000000</td>\n",
       "      <td>0</td>\n",
       "    </tr>\n",
       "    <tr>\n",
       "      <th>Field_1</th>\n",
       "      <td>0</td>\n",
       "      <td>40</td>\n",
       "      <td>27.777778</td>\n",
       "      <td>20</td>\n",
       "    </tr>\n",
       "    <tr>\n",
       "      <th>Field_2</th>\n",
       "      <td>0</td>\n",
       "      <td>0</td>\n",
       "      <td>45.222222</td>\n",
       "      <td>0</td>\n",
       "    </tr>\n",
       "    <tr>\n",
       "      <th>Field_3</th>\n",
       "      <td>0</td>\n",
       "      <td>0</td>\n",
       "      <td>0.000000</td>\n",
       "      <td>25</td>\n",
       "    </tr>\n",
       "    <tr>\n",
       "      <th>Field_4</th>\n",
       "      <td>0</td>\n",
       "      <td>0</td>\n",
       "      <td>0.000000</td>\n",
       "      <td>0</td>\n",
       "    </tr>\n",
       "  </tbody>\n",
       "</table>\n",
       "</div>"
      ],
      "text/plain": [
       "                   Grass  Wheat   Potatoes  Oats\n",
       "Pasture/Grassland     30      0   0.000000     0\n",
       "Field_1                0     40  27.777778    20\n",
       "Field_2                0      0  45.222222     0\n",
       "Field_3                0      0   0.000000    25\n",
       "Field_4                0      0   0.000000     0"
      ]
     },
     "execution_count": 10,
     "metadata": {},
     "output_type": "execute_result"
    }
   ],
   "source": [
    "pd.DataFrame(data = x_crop, index = Landgroups, columns = Crops)"
   ]
  },
  {
   "cell_type": "code",
   "execution_count": 11,
   "metadata": {
    "collapsed": false
   },
   "outputs": [
    {
     "data": {
      "text/html": [
       "<div>\n",
       "<table border=\"1\" class=\"dataframe\">\n",
       "  <thead>\n",
       "    <tr style=\"text-align: right;\">\n",
       "      <th></th>\n",
       "      <th>Final demand, kg</th>\n",
       "    </tr>\n",
       "  </thead>\n",
       "  <tbody>\n",
       "    <tr>\n",
       "      <th>Beef</th>\n",
       "      <td>0.000000e+00</td>\n",
       "    </tr>\n",
       "    <tr>\n",
       "      <th>Poultry</th>\n",
       "      <td>2.000000e+01</td>\n",
       "    </tr>\n",
       "    <tr>\n",
       "      <th>Pig</th>\n",
       "      <td>0.000000e+00</td>\n",
       "    </tr>\n",
       "    <tr>\n",
       "      <th>Lamb</th>\n",
       "      <td>0.000000e+00</td>\n",
       "    </tr>\n",
       "    <tr>\n",
       "      <th>Grass</th>\n",
       "      <td>0.000000e+00</td>\n",
       "    </tr>\n",
       "    <tr>\n",
       "      <th>Wheat</th>\n",
       "      <td>-7.105427e-15</td>\n",
       "    </tr>\n",
       "    <tr>\n",
       "      <th>Potatoes</th>\n",
       "      <td>3.300000e+01</td>\n",
       "    </tr>\n",
       "    <tr>\n",
       "      <th>Oats</th>\n",
       "      <td>1.500000e+01</td>\n",
       "    </tr>\n",
       "  </tbody>\n",
       "</table>\n",
       "</div>"
      ],
      "text/plain": [
       "          Final demand, kg\n",
       "Beef          0.000000e+00\n",
       "Poultry       2.000000e+01\n",
       "Pig           0.000000e+00\n",
       "Lamb          0.000000e+00\n",
       "Grass         0.000000e+00\n",
       "Wheat        -7.105427e-15\n",
       "Potatoes      3.300000e+01\n",
       "Oats          1.500000e+01"
      ]
     },
     "execution_count": 11,
     "metadata": {},
     "output_type": "execute_result"
    }
   ],
   "source": [
    "y = np.concatenate((x_meat,x_crop.sum(axis =0)),axis =0) - Z_res.sum(axis =1)\n",
    "pd.DataFrame(data = y, index = Meats+Crops, columns = ['Final demand, kg'])"
   ]
  },
  {
   "cell_type": "code",
   "execution_count": 12,
   "metadata": {
    "collapsed": false
   },
   "outputs": [
    {
     "name": "stdout",
     "output_type": "stream",
     "text": [
      "[[ 0.26  0.26  0.26  0.26  0.    0.1   0.1   0.1 ]\n",
      " [ 1.    1.    1.    1.    0.    0.    0.    0.  ]\n",
      " [ 0.    0.    0.    0.    0.    1.    0.    1.  ]]\n"
     ]
    },
    {
     "data": {
      "text/html": [
       "<div>\n",
       "<table border=\"1\" class=\"dataframe\">\n",
       "  <thead>\n",
       "    <tr style=\"text-align: right;\">\n",
       "      <th></th>\n",
       "      <th>Final demand, kg</th>\n",
       "    </tr>\n",
       "  </thead>\n",
       "  <tbody>\n",
       "    <tr>\n",
       "      <th>Proteins</th>\n",
       "      <td>10</td>\n",
       "    </tr>\n",
       "    <tr>\n",
       "      <th>Meat</th>\n",
       "      <td>20</td>\n",
       "    </tr>\n",
       "    <tr>\n",
       "      <th>Cereals</th>\n",
       "      <td>15</td>\n",
       "    </tr>\n",
       "  </tbody>\n",
       "</table>\n",
       "</div>"
      ],
      "text/plain": [
       "          Final demand, kg\n",
       "Proteins                10\n",
       "Meat                    20\n",
       "Cereals                 15"
      ]
     },
     "execution_count": 12,
     "metadata": {},
     "output_type": "execute_result"
    }
   ],
   "source": [
    "w_result = W.dot(y)\n",
    "print(W)\n",
    "pd.DataFrame(data = w_result, index = FoodCats, columns = ['Final demand, kg'])"
   ]
  },
  {
   "cell_type": "code",
   "execution_count": 13,
   "metadata": {
    "collapsed": false
   },
   "outputs": [
    {
     "data": {
      "text/plain": [
       "array([[  0.,   0.,   0.,   0.,   0.,   0.,   0.,   0.,   0.,   0.,   0.,\n",
       "          0.,   0.,   0.,   0.,   0.,   0.,   0.,   0.,   0.,   0.,   0.,\n",
       "          0.,   0.],\n",
       "       [  0.,   0.,   0.,   0.,   0.,   0.,   0.,   0.,   0.,   0.,   0.,\n",
       "          0.,   0.,   0.,   0.,   0.,   0.,   0.,   0.,   0.,   0.,   0.,\n",
       "          0.,   0.],\n",
       "       [  0.,   0.,   0.,   0.,   0.,   0.,   0.,   0.,   0.,   0.,   0.,\n",
       "          0.,   0.,   0.,   0.,   0.,   0.,   0.,   0.,   0.,   0.,   0.,\n",
       "          0.,   0.],\n",
       "       [  0.,   0.,   0.,   0.,   0.,   0.,   0.,   0.,   0.,   0.,   0.,\n",
       "          0.,   0.,   0.,   0.,   0.,   0.,   0.,   0.,   0.,   0.,   0.,\n",
       "          0.,   0.],\n",
       "       [  0.,  30.,   0.,   0.,   0.,   0.,   0.,   0.,   0.,   0.,   0.,\n",
       "          0.,   0.,   0.,   0.,   0.,   0.,   0.,   0.,   0.,   0.,   0.,\n",
       "          0.,   0.],\n",
       "       [  0.,  40.,   0.,   0.,   0.,   0.,   0.,   0.,   0.,   0.,   0.,\n",
       "          0.,   0.,   0.,   0.,   0.,   0.,   0.,   0.,   0.,   0.,   0.,\n",
       "          0.,   0.],\n",
       "       [  0.,  40.,   0.,   0.,   0.,   0.,   0.,   0.,   0.,   0.,   0.,\n",
       "          0.,   0.,   0.,   0.,   0.,   0.,   0.,   0.,   0.,   0.,   0.,\n",
       "          0.,   0.],\n",
       "       [  0.,  30.,   0.,   0.,   0.,   0.,   0.,   0.,   0.,   0.,   0.,\n",
       "          0.,   0.,   0.,   0.,   0.,   0.,   0.,   0.,   0.,   0.,   0.,\n",
       "          0.,   0.]])"
      ]
     },
     "execution_count": 13,
     "metadata": {},
     "output_type": "execute_result"
    }
   ],
   "source": [
    "Z_res.sum(axis =1)\n",
    "Z_res"
   ]
  },
  {
   "cell_type": "code",
   "execution_count": 14,
   "metadata": {
    "collapsed": false
   },
   "outputs": [
    {
     "data": {
      "text/html": [
       "<div>\n",
       "<table border=\"1\" class=\"dataframe\">\n",
       "  <thead>\n",
       "    <tr style=\"text-align: right;\">\n",
       "      <th></th>\n",
       "      <th>ha</th>\n",
       "    </tr>\n",
       "  </thead>\n",
       "  <tbody>\n",
       "    <tr>\n",
       "      <th>Grass</th>\n",
       "      <td>3.00</td>\n",
       "    </tr>\n",
       "    <tr>\n",
       "      <th>Wheat</th>\n",
       "      <td>6.00</td>\n",
       "    </tr>\n",
       "    <tr>\n",
       "      <th>Potatoes</th>\n",
       "      <td>13.14</td>\n",
       "    </tr>\n",
       "    <tr>\n",
       "      <th>Oats</th>\n",
       "      <td>11.25</td>\n",
       "    </tr>\n",
       "  </tbody>\n",
       "</table>\n",
       "</div>"
      ],
      "text/plain": [
       "             ha\n",
       "Grass      3.00\n",
       "Wheat      6.00\n",
       "Potatoes  13.14\n",
       "Oats      11.25"
      ]
     },
     "execution_count": 14,
     "metadata": {},
     "output_type": "execute_result"
    }
   ],
   "source": [
    "#Used and unused land:\n",
    "TotalLandUsed        = np.diag(l).dot(x_crop.sum(axis =0))\n",
    "TotalLandUsedByGroup = np.tile(l,(No_Landgroups,1)) * x_crop\n",
    "TotalLandUnused      = L - TotalLandUsedByGroup.sum(axis =1)\n",
    "pd.DataFrame(data = TotalLandUsed, index = Crops, columns = ['ha'])"
   ]
  },
  {
   "cell_type": "code",
   "execution_count": 15,
   "metadata": {
    "collapsed": false
   },
   "outputs": [
    {
     "data": {
      "text/html": [
       "<div>\n",
       "<table border=\"1\" class=\"dataframe\">\n",
       "  <thead>\n",
       "    <tr style=\"text-align: right;\">\n",
       "      <th></th>\n",
       "      <th>Grass</th>\n",
       "      <th>Wheat</th>\n",
       "      <th>Potatoes</th>\n",
       "      <th>Oats</th>\n",
       "    </tr>\n",
       "  </thead>\n",
       "  <tbody>\n",
       "    <tr>\n",
       "      <th>Pasture/Grassland</th>\n",
       "      <td>3</td>\n",
       "      <td>0</td>\n",
       "      <td>0.00</td>\n",
       "      <td>0.00</td>\n",
       "    </tr>\n",
       "    <tr>\n",
       "      <th>Field_1</th>\n",
       "      <td>0</td>\n",
       "      <td>6</td>\n",
       "      <td>5.00</td>\n",
       "      <td>5.00</td>\n",
       "    </tr>\n",
       "    <tr>\n",
       "      <th>Field_2</th>\n",
       "      <td>0</td>\n",
       "      <td>0</td>\n",
       "      <td>8.14</td>\n",
       "      <td>0.00</td>\n",
       "    </tr>\n",
       "    <tr>\n",
       "      <th>Field_3</th>\n",
       "      <td>0</td>\n",
       "      <td>0</td>\n",
       "      <td>0.00</td>\n",
       "      <td>6.25</td>\n",
       "    </tr>\n",
       "    <tr>\n",
       "      <th>Field_4</th>\n",
       "      <td>0</td>\n",
       "      <td>0</td>\n",
       "      <td>0.00</td>\n",
       "      <td>0.00</td>\n",
       "    </tr>\n",
       "  </tbody>\n",
       "</table>\n",
       "</div>"
      ],
      "text/plain": [
       "                   Grass  Wheat  Potatoes  Oats\n",
       "Pasture/Grassland      3      0      0.00  0.00\n",
       "Field_1                0      6      5.00  5.00\n",
       "Field_2                0      0      8.14  0.00\n",
       "Field_3                0      0      0.00  6.25\n",
       "Field_4                0      0      0.00  0.00"
      ]
     },
     "execution_count": 15,
     "metadata": {},
     "output_type": "execute_result"
    }
   ],
   "source": [
    "pd.DataFrame(data = TotalLandUsedByGroup, index = Landgroups, columns = Crops)"
   ]
  },
  {
   "cell_type": "code",
   "execution_count": 16,
   "metadata": {
    "collapsed": false
   },
   "outputs": [
    {
     "data": {
      "text/html": [
       "<div>\n",
       "<table border=\"1\" class=\"dataframe\">\n",
       "  <thead>\n",
       "    <tr style=\"text-align: right;\">\n",
       "      <th></th>\n",
       "      <th>ha</th>\n",
       "    </tr>\n",
       "  </thead>\n",
       "  <tbody>\n",
       "    <tr>\n",
       "      <th>Pasture/Grassland</th>\n",
       "      <td>97.00</td>\n",
       "    </tr>\n",
       "    <tr>\n",
       "      <th>Field_1</th>\n",
       "      <td>4.00</td>\n",
       "    </tr>\n",
       "    <tr>\n",
       "      <th>Field_2</th>\n",
       "      <td>191.86</td>\n",
       "    </tr>\n",
       "    <tr>\n",
       "      <th>Field_3</th>\n",
       "      <td>73.75</td>\n",
       "    </tr>\n",
       "    <tr>\n",
       "      <th>Field_4</th>\n",
       "      <td>120.00</td>\n",
       "    </tr>\n",
       "  </tbody>\n",
       "</table>\n",
       "</div>"
      ],
      "text/plain": [
       "                       ha\n",
       "Pasture/Grassland   97.00\n",
       "Field_1              4.00\n",
       "Field_2            191.86\n",
       "Field_3             73.75\n",
       "Field_4            120.00"
      ]
     },
     "execution_count": 16,
     "metadata": {},
     "output_type": "execute_result"
    }
   ],
   "source": [
    "pd.DataFrame(data = TotalLandUnused, index = Landgroups, columns = ['ha'])"
   ]
  },
  {
   "cell_type": "markdown",
   "metadata": {
    "collapsed": false
   },
   "source": [
    "The above example shows that large problems can be quickly formulated with the helper functions defined above and solved. "
   ]
  }
 ],
 "metadata": {
  "kernelspec": {
   "display_name": "Python 3",
   "language": "python",
   "name": "python3"
  },
  "language_info": {
   "codemirror_mode": {
    "name": "ipython",
    "version": 3
   },
   "file_extension": ".py",
   "mimetype": "text/x-python",
   "name": "python",
   "nbconvert_exporter": "python",
   "pygments_lexer": "ipython3",
   "version": "3.5.3"
  }
 },
 "nbformat": 4,
 "nbformat_minor": 2
}
